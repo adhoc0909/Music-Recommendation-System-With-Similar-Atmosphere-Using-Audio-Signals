{
 "cells": [
  {
   "cell_type": "code",
   "execution_count": 1,
   "metadata": {},
   "outputs": [
    {
     "name": "stderr",
     "output_type": "stream",
     "text": [
      "Using TensorFlow backend.\n"
     ]
    }
   ],
   "source": [
    "import librosa\n",
    "import pandas as pd\n",
    "import numpy as np\n",
    "import matplotlib.pyplot as plt\n",
    "%matplotlib inline\n",
    "import os\n",
    "from PIL import Image\n",
    "import pathlib\n",
    "import csv\n",
    "\n",
    "# Preprocessing\n",
    "from sklearn.model_selection import train_test_split\n",
    "from sklearn.preprocessing import LabelEncoder, StandardScaler\n",
    "from sklearn.ensemble import RandomForestClassifier\n",
    "from sklearn import metrics \n",
    "\n",
    "#Keras\n",
    "import keras\n",
    "\n",
    "from collections import Counter\n",
    "\n",
    "import warnings\n",
    "warnings.filterwarnings('ignore')"
   ]
  },
  {
   "cell_type": "code",
   "execution_count": 8,
   "metadata": {},
   "outputs": [],
   "source": [
    "import tensorflow as tf"
   ]
  },
  {
   "cell_type": "code",
   "execution_count": null,
   "metadata": {},
   "outputs": [],
   "source": [
    "def normalize(vector):\n",
    "    # Subtract the mean, and scale to the interval [-1,1]\n",
    "    vector_minusmean = vector - vector.mean()\n",
    "    return vector_minusmean/np.abs(vector_minusmean).max()\n",
    "\n",
    "\n",
    "def feature_extraction(music):\n",
    "    y, sr= librosa.load(music, mono=True, duration=30)\n",
    "\n",
    "    y=normalize(y)\n",
    "    centroid = librosa.feature.spectral_centroid(y=y, sr=sr) #spectral centroid\n",
    "    rolloff=librosa.feature.spectral_rolloff(y, sr) #spectral rolloff\n",
    "    flux=librosa.onset.onset_strength(y, sr) #spectral flux\n",
    "    zcr=librosa.feature.zero_crossing_rate(y) #zero crossing rate\n",
    "    mfcc=librosa.feature.mfcc(y=y, sr=sr)[:5] #first five mfcc vectors\n",
    "        \n",
    "    rmse=librosa.feature.rms(y=y, hop_length=sr)\n",
    "    rmsmean=rmse.mean()\n",
    "    low_energy=((y<rmsmean).sum())/y.shape[0] #low energy\n",
    "        \n",
    "    to_append = f'{centroid.mean()} {centroid.var()} {rolloff.mean()} {rolloff.var()} {flux.mean()} {flux.var()} {zcr.mean()} {zcr.var()} {low_energy} '    \n",
    "    for e in mfcc:\n",
    "        to_append += f'{e.mean()} {e.var()} '\n",
    "    to_append=to_append.split()\n",
    "    to_append=np.array(to_append, dtype=np.float64)\n",
    "    \n",
    "    X=scaler.transform(to_append.reshape(1,-1))\n",
    "        \n",
    "    return X"
   ]
  },
  {
   "cell_type": "code",
   "execution_count": 3,
   "metadata": {},
   "outputs": [
    {
     "data": {
      "text/plain": [
       "Counter({'blues': 100,\n",
       "         'classical': 100,\n",
       "         'country': 100,\n",
       "         'disco': 100,\n",
       "         'hiphop': 100,\n",
       "         'jazz': 100,\n",
       "         'metal': 100,\n",
       "         'pop': 100,\n",
       "         'reggae': 100,\n",
       "         'rock': 100})"
      ]
     },
     "execution_count": 3,
     "metadata": {},
     "output_type": "execute_result"
    }
   ],
   "source": [
    "data = pd.read_csv('gtzan_timbral_feature.csv')\n",
    "\n",
    "data = data.drop(['filename'],axis=1)\n",
    "\n",
    "genre_list = data.iloc[:, -1]\n",
    "encoder = LabelEncoder()\n",
    "y = encoder.fit_transform(genre_list)\n",
    "\n",
    "\n",
    "Counter(genre_list)"
   ]
  },
  {
   "cell_type": "code",
   "execution_count": 4,
   "metadata": {},
   "outputs": [],
   "source": [
    "scaler = StandardScaler()\n",
    "scaler.fit(np.array(data.iloc[:, :-1], dtype = float))\n",
    "X = scaler.transform(np.array(data.iloc[:, :-1], dtype = float))\n",
    "\n",
    "X_train, X_test, y_train, y_test = train_test_split(X, y, test_size=0.2)"
   ]
  },
  {
   "cell_type": "code",
   "execution_count": 48,
   "metadata": {},
   "outputs": [
    {
     "data": {
      "text/plain": [
       "200"
      ]
     },
     "execution_count": 48,
     "metadata": {},
     "output_type": "execute_result"
    }
   ],
   "source": [
    "y_test.shape[0]"
   ]
  },
  {
   "cell_type": "code",
   "execution_count": 5,
   "metadata": {
    "scrolled": true
   },
   "outputs": [
    {
     "name": "stdout",
     "output_type": "stream",
     "text": [
      "총 200곡 중 61.00% 정확도로 장르를 맞춤\n"
     ]
    }
   ],
   "source": [
    "from training.train import RandomForest\n",
    "\n",
    "model=RandomForest(X_train, X_test, y_train, y_test)"
   ]
  },
  {
   "cell_type": "code",
   "execution_count": 8,
   "metadata": {},
   "outputs": [
    {
     "data": {
      "text/plain": [
       "'hiphop'"
      ]
     },
     "execution_count": 8,
     "metadata": {},
     "output_type": "execute_result"
    }
   ],
   "source": [
    "audio_path=\"C:\\\\Users\\\\admin\\\\OneDrive - 경희대학교\\\\2020년 1학기 강의자료\\\\데이터분석캡스톤디자인\\\\프로젝트\\\\음악\\\\\"\n",
    "song=\"My Way(jazz).wav\"\n",
    "user_feature=feature_extraction(audio_path+song)\n",
    "\n",
    "genre_dict[int(model.predict(user_feature))]"
   ]
  },
  {
   "cell_type": "code",
   "execution_count": 4,
   "metadata": {},
   "outputs": [],
   "source": [
    "from keras import models\n",
    "from keras import layers\n",
    "\n",
    "model = models.Sequential()\n",
    "model.add(layers.Dense(512, activation='relu', input_shape=(X_train.shape[1],)))\n",
    "\n",
    "model.add(layers.Dense(256, activation='relu'))\n",
    "\n",
    "model.add(layers.Dense(128, activation='relu'))\n",
    "\n",
    "model.add(layers.Dense(64, activation='relu'))\n",
    "\n",
    "model.add(layers.Dense(10, activation='softmax'))\n",
    "\n",
    "\n",
    "model.compile(optimizer='adam',\n",
    "              loss='sparse_categorical_crossentropy',\n",
    "              metrics=['accuracy'])"
   ]
  },
  {
   "cell_type": "code",
   "execution_count": 5,
   "metadata": {
    "scrolled": true
   },
   "outputs": [
    {
     "name": "stdout",
     "output_type": "stream",
     "text": [
      "Epoch 1/30\n",
      "800/800 [==============================] - 0s 377us/step - loss: 2.1234 - accuracy: 0.2975\n",
      "Epoch 2/30\n",
      "800/800 [==============================] - 0s 35us/step - loss: 1.6760 - accuracy: 0.4062\n",
      "Epoch 3/30\n",
      "800/800 [==============================] - 0s 35us/step - loss: 1.3674 - accuracy: 0.5200\n",
      "Epoch 4/30\n",
      "800/800 [==============================] - 0s 32us/step - loss: 1.2020 - accuracy: 0.5738\n",
      "Epoch 5/30\n",
      "800/800 [==============================] - 0s 32us/step - loss: 1.0979 - accuracy: 0.6025\n",
      "Epoch 6/30\n",
      "800/800 [==============================] - 0s 29us/step - loss: 1.0140 - accuracy: 0.6313\n",
      "Epoch 7/30\n",
      "800/800 [==============================] - 0s 29us/step - loss: 0.9575 - accuracy: 0.6637\n",
      "Epoch 8/30\n",
      "800/800 [==============================] - 0s 30us/step - loss: 0.9119 - accuracy: 0.6762\n",
      "Epoch 9/30\n",
      "800/800 [==============================] - 0s 29us/step - loss: 0.8682 - accuracy: 0.6988\n",
      "Epoch 10/30\n",
      "800/800 [==============================] - 0s 31us/step - loss: 0.8274 - accuracy: 0.7088\n",
      "Epoch 11/30\n",
      "800/800 [==============================] - 0s 27us/step - loss: 0.7783 - accuracy: 0.7088\n",
      "Epoch 12/30\n",
      "800/800 [==============================] - 0s 36us/step - loss: 0.7160 - accuracy: 0.7525\n",
      "Epoch 13/30\n",
      "800/800 [==============================] - 0s 37us/step - loss: 0.6917 - accuracy: 0.7500\n",
      "Epoch 14/30\n",
      "800/800 [==============================] - 0s 39us/step - loss: 0.6349 - accuracy: 0.7688\n",
      "Epoch 15/30\n",
      "800/800 [==============================] - 0s 46us/step - loss: 0.6209 - accuracy: 0.7663\n",
      "Epoch 16/30\n",
      "800/800 [==============================] - 0s 36us/step - loss: 0.5956 - accuracy: 0.7900\n",
      "Epoch 17/30\n",
      "800/800 [==============================] - 0s 34us/step - loss: 0.5660 - accuracy: 0.7975\n",
      "Epoch 18/30\n",
      "800/800 [==============================] - 0s 34us/step - loss: 0.5386 - accuracy: 0.8100\n",
      "Epoch 19/30\n",
      "800/800 [==============================] - 0s 31us/step - loss: 0.5110 - accuracy: 0.8175\n",
      "Epoch 20/30\n",
      "800/800 [==============================] - 0s 30us/step - loss: 0.4687 - accuracy: 0.8475\n",
      "Epoch 21/30\n",
      "800/800 [==============================] - 0s 31us/step - loss: 0.4577 - accuracy: 0.8500\n",
      "Epoch 22/30\n",
      "800/800 [==============================] - 0s 30us/step - loss: 0.4554 - accuracy: 0.8400\n",
      "Epoch 23/30\n",
      "800/800 [==============================] - 0s 29us/step - loss: 0.4411 - accuracy: 0.8413\n",
      "Epoch 24/30\n",
      "800/800 [==============================] - 0s 29us/step - loss: 0.4544 - accuracy: 0.8462\n",
      "Epoch 25/30\n",
      "800/800 [==============================] - 0s 30us/step - loss: 0.4217 - accuracy: 0.8512\n",
      "Epoch 26/30\n",
      "800/800 [==============================] - 0s 29us/step - loss: 0.4098 - accuracy: 0.8550\n",
      "Epoch 27/30\n",
      "800/800 [==============================] - 0s 31us/step - loss: 0.3911 - accuracy: 0.8650\n",
      "Epoch 28/30\n",
      "800/800 [==============================] - 0s 29us/step - loss: 0.3615 - accuracy: 0.8700\n",
      "Epoch 29/30\n",
      "800/800 [==============================] - 0s 32us/step - loss: 0.3548 - accuracy: 0.8800\n",
      "Epoch 30/30\n",
      "800/800 [==============================] - 0s 31us/step - loss: 0.3531 - accuracy: 0.8712\n",
      "200/200 [==============================] - 0s 125us/step\n"
     ]
    }
   ],
   "source": [
    "history = model.fit(X_train,\n",
    "                    y_train,\n",
    "                    epochs=30,\n",
    "                    batch_size=128)\n",
    "\n",
    "results = model.evaluate(X_test, y_test)"
   ]
  },
  {
   "cell_type": "code",
   "execution_count": 6,
   "metadata": {},
   "outputs": [
    {
     "data": {
      "text/plain": [
       "[1.0136216259002686, 0.675000011920929]"
      ]
     },
     "execution_count": 6,
     "metadata": {},
     "output_type": "execute_result"
    }
   ],
   "source": [
    "results"
   ]
  },
  {
   "cell_type": "code",
   "execution_count": 11,
   "metadata": {},
   "outputs": [],
   "source": [
    "\n",
    "x_val = X_train[:200]\n",
    "partial_x_train = X_train[200:]\n",
    "\n",
    "y_val = y_train[:200]\n",
    "partial_y_train = y_train[200:]"
   ]
  },
  {
   "cell_type": "code",
   "execution_count": 12,
   "metadata": {},
   "outputs": [
    {
     "data": {
      "text/plain": [
       "(600, 19)"
      ]
     },
     "execution_count": 12,
     "metadata": {},
     "output_type": "execute_result"
    }
   ],
   "source": [
    "partial_x_train.shape"
   ]
  },
  {
   "cell_type": "code",
   "execution_count": 33,
   "metadata": {
    "scrolled": true
   },
   "outputs": [
    {
     "name": "stdout",
     "output_type": "stream",
     "text": [
      "Train on 600 samples, validate on 200 samples\n",
      "Epoch 1/100\n",
      "600/600 [==============================] - 0s 206us/step - loss: 2.3005 - accuracy: 0.1000 - val_loss: 2.1749 - val_accuracy: 0.3100\n",
      "Epoch 2/100\n",
      "600/600 [==============================] - 0s 18us/step - loss: 2.1307 - accuracy: 0.3317 - val_loss: 2.0433 - val_accuracy: 0.4050\n",
      "Epoch 3/100\n",
      "600/600 [==============================] - 0s 17us/step - loss: 1.9906 - accuracy: 0.4233 - val_loss: 1.9157 - val_accuracy: 0.3850\n",
      "Epoch 4/100\n",
      "600/600 [==============================] - 0s 17us/step - loss: 1.8460 - accuracy: 0.4500 - val_loss: 1.7956 - val_accuracy: 0.4000\n",
      "Epoch 5/100\n",
      "600/600 [==============================] - 0s 22us/step - loss: 1.7121 - accuracy: 0.4617 - val_loss: 1.6889 - val_accuracy: 0.4150\n",
      "Epoch 6/100\n",
      "600/600 [==============================] - 0s 18us/step - loss: 1.5966 - accuracy: 0.4617 - val_loss: 1.6036 - val_accuracy: 0.3950\n",
      "Epoch 7/100\n",
      "600/600 [==============================] - 0s 17us/step - loss: 1.5055 - accuracy: 0.4783 - val_loss: 1.5361 - val_accuracy: 0.4200\n",
      "Epoch 8/100\n",
      "600/600 [==============================] - 0s 18us/step - loss: 1.4203 - accuracy: 0.4917 - val_loss: 1.4777 - val_accuracy: 0.4500\n",
      "Epoch 9/100\n",
      "600/600 [==============================] - 0s 17us/step - loss: 1.3453 - accuracy: 0.5183 - val_loss: 1.4137 - val_accuracy: 0.4600\n",
      "Epoch 10/100\n",
      "600/600 [==============================] - 0s 18us/step - loss: 1.2728 - accuracy: 0.5567 - val_loss: 1.3518 - val_accuracy: 0.5300\n",
      "Epoch 11/100\n",
      "600/600 [==============================] - 0s 22us/step - loss: 1.2153 - accuracy: 0.5867 - val_loss: 1.3036 - val_accuracy: 0.5300\n",
      "Epoch 12/100\n",
      "600/600 [==============================] - 0s 17us/step - loss: 1.1603 - accuracy: 0.6050 - val_loss: 1.2714 - val_accuracy: 0.5600\n",
      "Epoch 13/100\n",
      "600/600 [==============================] - 0s 18us/step - loss: 1.1091 - accuracy: 0.6250 - val_loss: 1.2453 - val_accuracy: 0.5850\n",
      "Epoch 14/100\n",
      "600/600 [==============================] - 0s 17us/step - loss: 1.0604 - accuracy: 0.6317 - val_loss: 1.2228 - val_accuracy: 0.5850\n",
      "Epoch 15/100\n",
      "600/600 [==============================] - 0s 17us/step - loss: 1.0207 - accuracy: 0.6550 - val_loss: 1.1966 - val_accuracy: 0.5700\n",
      "Epoch 16/100\n",
      "600/600 [==============================] - 0s 17us/step - loss: 0.9796 - accuracy: 0.6650 - val_loss: 1.1783 - val_accuracy: 0.5900\n",
      "Epoch 17/100\n",
      "600/600 [==============================] - 0s 18us/step - loss: 0.9518 - accuracy: 0.6633 - val_loss: 1.1533 - val_accuracy: 0.6000\n",
      "Epoch 18/100\n",
      "600/600 [==============================] - 0s 18us/step - loss: 0.9179 - accuracy: 0.6700 - val_loss: 1.1404 - val_accuracy: 0.6100\n",
      "Epoch 19/100\n",
      "600/600 [==============================] - 0s 17us/step - loss: 0.8922 - accuracy: 0.6967 - val_loss: 1.1423 - val_accuracy: 0.5950\n",
      "Epoch 20/100\n",
      "600/600 [==============================] - 0s 17us/step - loss: 0.8644 - accuracy: 0.7033 - val_loss: 1.1326 - val_accuracy: 0.6000\n",
      "Epoch 21/100\n",
      "600/600 [==============================] - 0s 17us/step - loss: 0.8343 - accuracy: 0.7233 - val_loss: 1.1315 - val_accuracy: 0.5650\n",
      "Epoch 22/100\n",
      "600/600 [==============================] - 0s 20us/step - loss: 0.8232 - accuracy: 0.7150 - val_loss: 1.1157 - val_accuracy: 0.6000\n",
      "Epoch 23/100\n",
      "600/600 [==============================] - 0s 17us/step - loss: 0.7938 - accuracy: 0.7183 - val_loss: 1.1003 - val_accuracy: 0.6150\n",
      "Epoch 24/100\n",
      "600/600 [==============================] - 0s 18us/step - loss: 0.7721 - accuracy: 0.7200 - val_loss: 1.0858 - val_accuracy: 0.6250\n",
      "Epoch 25/100\n",
      "600/600 [==============================] - 0s 17us/step - loss: 0.7672 - accuracy: 0.7333 - val_loss: 1.0710 - val_accuracy: 0.6200\n",
      "Epoch 26/100\n",
      "600/600 [==============================] - 0s 20us/step - loss: 0.7350 - accuracy: 0.7417 - val_loss: 1.0666 - val_accuracy: 0.6250\n",
      "Epoch 27/100\n",
      "600/600 [==============================] - 0s 17us/step - loss: 0.7206 - accuracy: 0.7467 - val_loss: 1.0819 - val_accuracy: 0.5950\n",
      "Epoch 28/100\n",
      "600/600 [==============================] - 0s 22us/step - loss: 0.7067 - accuracy: 0.7400 - val_loss: 1.0873 - val_accuracy: 0.6000\n",
      "Epoch 29/100\n",
      "600/600 [==============================] - 0s 18us/step - loss: 0.6892 - accuracy: 0.7483 - val_loss: 1.0702 - val_accuracy: 0.5950\n",
      "Epoch 30/100\n",
      "600/600 [==============================] - 0s 17us/step - loss: 0.6687 - accuracy: 0.7800 - val_loss: 1.0573 - val_accuracy: 0.5950\n",
      "Epoch 31/100\n",
      "600/600 [==============================] - 0s 18us/step - loss: 0.6561 - accuracy: 0.7900 - val_loss: 1.0505 - val_accuracy: 0.6200\n",
      "Epoch 32/100\n",
      "600/600 [==============================] - 0s 18us/step - loss: 0.6434 - accuracy: 0.7900 - val_loss: 1.0454 - val_accuracy: 0.6200\n",
      "Epoch 33/100\n",
      "600/600 [==============================] - 0s 20us/step - loss: 0.6259 - accuracy: 0.7933 - val_loss: 1.0468 - val_accuracy: 0.6300\n",
      "Epoch 34/100\n",
      "600/600 [==============================] - 0s 17us/step - loss: 0.6126 - accuracy: 0.7883 - val_loss: 1.0452 - val_accuracy: 0.6350\n",
      "Epoch 35/100\n",
      "600/600 [==============================] - 0s 18us/step - loss: 0.5971 - accuracy: 0.7850 - val_loss: 1.0460 - val_accuracy: 0.6350\n",
      "Epoch 36/100\n",
      "600/600 [==============================] - 0s 17us/step - loss: 0.5836 - accuracy: 0.7983 - val_loss: 1.0419 - val_accuracy: 0.6600\n",
      "Epoch 37/100\n",
      "600/600 [==============================] - 0s 18us/step - loss: 0.5747 - accuracy: 0.8017 - val_loss: 1.0256 - val_accuracy: 0.6400\n",
      "Epoch 38/100\n",
      "600/600 [==============================] - 0s 22us/step - loss: 0.5619 - accuracy: 0.8083 - val_loss: 1.0212 - val_accuracy: 0.6350\n",
      "Epoch 39/100\n",
      "600/600 [==============================] - 0s 22us/step - loss: 0.5499 - accuracy: 0.8150 - val_loss: 1.0391 - val_accuracy: 0.6300\n",
      "Epoch 40/100\n",
      "600/600 [==============================] - 0s 18us/step - loss: 0.5353 - accuracy: 0.8267 - val_loss: 1.0405 - val_accuracy: 0.6500\n",
      "Epoch 41/100\n",
      "600/600 [==============================] - 0s 18us/step - loss: 0.5298 - accuracy: 0.8333 - val_loss: 1.0175 - val_accuracy: 0.6350\n",
      "Epoch 42/100\n",
      "600/600 [==============================] - 0s 18us/step - loss: 0.5131 - accuracy: 0.8317 - val_loss: 1.0130 - val_accuracy: 0.6150\n",
      "Epoch 43/100\n",
      "600/600 [==============================] - 0s 20us/step - loss: 0.5013 - accuracy: 0.8433 - val_loss: 1.0311 - val_accuracy: 0.6350\n",
      "Epoch 44/100\n",
      "600/600 [==============================] - 0s 18us/step - loss: 0.4924 - accuracy: 0.8550 - val_loss: 1.0342 - val_accuracy: 0.6200\n",
      "Epoch 45/100\n",
      "600/600 [==============================] - 0s 18us/step - loss: 0.4781 - accuracy: 0.8650 - val_loss: 1.0259 - val_accuracy: 0.6500\n",
      "Epoch 46/100\n",
      "600/600 [==============================] - 0s 18us/step - loss: 0.4710 - accuracy: 0.8533 - val_loss: 1.0272 - val_accuracy: 0.6450\n",
      "Epoch 47/100\n",
      "600/600 [==============================] - 0s 18us/step - loss: 0.4551 - accuracy: 0.8667 - val_loss: 1.0419 - val_accuracy: 0.6300\n",
      "Epoch 48/100\n",
      "600/600 [==============================] - 0s 17us/step - loss: 0.4528 - accuracy: 0.8683 - val_loss: 1.0433 - val_accuracy: 0.6550\n",
      "Epoch 49/100\n",
      "600/600 [==============================] - 0s 18us/step - loss: 0.4417 - accuracy: 0.8717 - val_loss: 1.0294 - val_accuracy: 0.6350\n",
      "Epoch 50/100\n",
      "600/600 [==============================] - 0s 18us/step - loss: 0.4250 - accuracy: 0.8717 - val_loss: 1.0041 - val_accuracy: 0.6550\n",
      "Epoch 51/100\n",
      "600/600 [==============================] - 0s 17us/step - loss: 0.4147 - accuracy: 0.8683 - val_loss: 1.0240 - val_accuracy: 0.6450\n",
      "Epoch 52/100\n",
      "600/600 [==============================] - 0s 18us/step - loss: 0.4069 - accuracy: 0.8850 - val_loss: 1.0441 - val_accuracy: 0.6500\n",
      "Epoch 53/100\n",
      "600/600 [==============================] - 0s 18us/step - loss: 0.3987 - accuracy: 0.8850 - val_loss: 1.0264 - val_accuracy: 0.6350\n",
      "Epoch 54/100\n",
      "600/600 [==============================] - 0s 22us/step - loss: 0.3875 - accuracy: 0.8950 - val_loss: 1.0234 - val_accuracy: 0.6450\n",
      "Epoch 55/100\n",
      "600/600 [==============================] - 0s 18us/step - loss: 0.3759 - accuracy: 0.8933 - val_loss: 1.0394 - val_accuracy: 0.6350\n",
      "Epoch 56/100\n",
      "600/600 [==============================] - ETA: 0s - loss: 0.4096 - accuracy: 0.87 - 0s 18us/step - loss: 0.3757 - accuracy: 0.8950 - val_loss: 1.0249 - val_accuracy: 0.6450\n"
     ]
    },
    {
     "name": "stdout",
     "output_type": "stream",
     "text": [
      "Epoch 57/100\n",
      "600/600 [==============================] - 0s 18us/step - loss: 0.3594 - accuracy: 0.9067 - val_loss: 1.0287 - val_accuracy: 0.6400\n",
      "Epoch 58/100\n",
      "600/600 [==============================] - 0s 18us/step - loss: 0.3579 - accuracy: 0.8983 - val_loss: 1.0395 - val_accuracy: 0.6400\n",
      "Epoch 59/100\n",
      "600/600 [==============================] - 0s 20us/step - loss: 0.3431 - accuracy: 0.9067 - val_loss: 1.0659 - val_accuracy: 0.6250\n",
      "Epoch 60/100\n",
      "600/600 [==============================] - 0s 18us/step - loss: 0.3458 - accuracy: 0.9117 - val_loss: 1.0446 - val_accuracy: 0.6350\n",
      "Epoch 61/100\n",
      "600/600 [==============================] - 0s 17us/step - loss: 0.3282 - accuracy: 0.9133 - val_loss: 1.0463 - val_accuracy: 0.6300\n",
      "Epoch 62/100\n",
      "600/600 [==============================] - 0s 18us/step - loss: 0.3247 - accuracy: 0.9183 - val_loss: 1.0595 - val_accuracy: 0.6450\n",
      "Epoch 63/100\n",
      "600/600 [==============================] - 0s 15us/step - loss: 0.3141 - accuracy: 0.9300 - val_loss: 1.0576 - val_accuracy: 0.6450\n",
      "Epoch 64/100\n",
      "600/600 [==============================] - 0s 20us/step - loss: 0.3088 - accuracy: 0.9283 - val_loss: 1.0534 - val_accuracy: 0.6400\n",
      "Epoch 65/100\n",
      "600/600 [==============================] - 0s 20us/step - loss: 0.3012 - accuracy: 0.9367 - val_loss: 1.0792 - val_accuracy: 0.6550\n",
      "Epoch 66/100\n",
      "600/600 [==============================] - 0s 18us/step - loss: 0.2924 - accuracy: 0.9250 - val_loss: 1.0705 - val_accuracy: 0.6650\n",
      "Epoch 67/100\n",
      "600/600 [==============================] - 0s 18us/step - loss: 0.2805 - accuracy: 0.9367 - val_loss: 1.0654 - val_accuracy: 0.6300\n",
      "Epoch 68/100\n",
      "600/600 [==============================] - 0s 17us/step - loss: 0.2800 - accuracy: 0.9433 - val_loss: 1.0628 - val_accuracy: 0.6600\n",
      "Epoch 69/100\n",
      "600/600 [==============================] - 0s 17us/step - loss: 0.2724 - accuracy: 0.9383 - val_loss: 1.0574 - val_accuracy: 0.6600\n",
      "Epoch 70/100\n",
      "600/600 [==============================] - 0s 17us/step - loss: 0.2610 - accuracy: 0.9417 - val_loss: 1.0762 - val_accuracy: 0.6450\n",
      "Epoch 71/100\n",
      "600/600 [==============================] - 0s 18us/step - loss: 0.2580 - accuracy: 0.9483 - val_loss: 1.0911 - val_accuracy: 0.6450\n",
      "Epoch 72/100\n",
      "600/600 [==============================] - 0s 23us/step - loss: 0.2506 - accuracy: 0.9450 - val_loss: 1.1006 - val_accuracy: 0.6450\n",
      "Epoch 73/100\n",
      "600/600 [==============================] - 0s 20us/step - loss: 0.2473 - accuracy: 0.9350 - val_loss: 1.1062 - val_accuracy: 0.6450\n",
      "Epoch 74/100\n",
      "600/600 [==============================] - 0s 17us/step - loss: 0.2364 - accuracy: 0.9450 - val_loss: 1.0967 - val_accuracy: 0.6550\n",
      "Epoch 75/100\n",
      "600/600 [==============================] - 0s 17us/step - loss: 0.2307 - accuracy: 0.9533 - val_loss: 1.0876 - val_accuracy: 0.6500\n",
      "Epoch 76/100\n",
      "600/600 [==============================] - 0s 18us/step - loss: 0.2265 - accuracy: 0.9583 - val_loss: 1.1128 - val_accuracy: 0.6500\n",
      "Epoch 77/100\n",
      "600/600 [==============================] - 0s 18us/step - loss: 0.2202 - accuracy: 0.9583 - val_loss: 1.1182 - val_accuracy: 0.6600\n",
      "Epoch 78/100\n",
      "600/600 [==============================] - 0s 22us/step - loss: 0.2155 - accuracy: 0.9550 - val_loss: 1.1097 - val_accuracy: 0.6450\n",
      "Epoch 79/100\n",
      "600/600 [==============================] - 0s 18us/step - loss: 0.2091 - accuracy: 0.9567 - val_loss: 1.1088 - val_accuracy: 0.6500\n",
      "Epoch 80/100\n",
      "600/600 [==============================] - 0s 17us/step - loss: 0.2024 - accuracy: 0.9733 - val_loss: 1.1197 - val_accuracy: 0.6550\n",
      "Epoch 81/100\n",
      "600/600 [==============================] - 0s 18us/step - loss: 0.1982 - accuracy: 0.9617 - val_loss: 1.1328 - val_accuracy: 0.6600\n",
      "Epoch 82/100\n",
      "600/600 [==============================] - 0s 15us/step - loss: 0.1956 - accuracy: 0.9583 - val_loss: 1.1105 - val_accuracy: 0.6600\n",
      "Epoch 83/100\n",
      "600/600 [==============================] - 0s 17us/step - loss: 0.1866 - accuracy: 0.9717 - val_loss: 1.0962 - val_accuracy: 0.6700\n",
      "Epoch 84/100\n",
      "600/600 [==============================] - 0s 22us/step - loss: 0.1835 - accuracy: 0.9717 - val_loss: 1.1323 - val_accuracy: 0.6550\n",
      "Epoch 85/100\n",
      "600/600 [==============================] - 0s 20us/step - loss: 0.1808 - accuracy: 0.9633 - val_loss: 1.1705 - val_accuracy: 0.6600\n",
      "Epoch 86/100\n",
      "600/600 [==============================] - 0s 18us/step - loss: 0.1758 - accuracy: 0.9633 - val_loss: 1.1446 - val_accuracy: 0.6450\n",
      "Epoch 87/100\n",
      "600/600 [==============================] - 0s 18us/step - loss: 0.1772 - accuracy: 0.9783 - val_loss: 1.1516 - val_accuracy: 0.6500\n",
      "Epoch 88/100\n",
      "600/600 [==============================] - 0s 17us/step - loss: 0.1696 - accuracy: 0.9717 - val_loss: 1.1791 - val_accuracy: 0.6750\n",
      "Epoch 89/100\n",
      "600/600 [==============================] - 0s 18us/step - loss: 0.1648 - accuracy: 0.9633 - val_loss: 1.1558 - val_accuracy: 0.6550\n",
      "Epoch 90/100\n",
      "600/600 [==============================] - 0s 18us/step - loss: 0.1579 - accuracy: 0.9767 - val_loss: 1.1690 - val_accuracy: 0.6500\n",
      "Epoch 91/100\n",
      "600/600 [==============================] - 0s 15us/step - loss: 0.1560 - accuracy: 0.9800 - val_loss: 1.1734 - val_accuracy: 0.6550\n",
      "Epoch 92/100\n",
      "600/600 [==============================] - 0s 17us/step - loss: 0.1461 - accuracy: 0.9833 - val_loss: 1.1776 - val_accuracy: 0.6450\n",
      "Epoch 93/100\n",
      "600/600 [==============================] - 0s 17us/step - loss: 0.1501 - accuracy: 0.9733 - val_loss: 1.1796 - val_accuracy: 0.6550\n",
      "Epoch 94/100\n",
      "600/600 [==============================] - 0s 15us/step - loss: 0.1391 - accuracy: 0.9750 - val_loss: 1.2076 - val_accuracy: 0.6500\n",
      "Epoch 95/100\n",
      "600/600 [==============================] - ETA: 0s - loss: 0.1423 - accuracy: 0.98 - 0s 18us/step - loss: 0.1382 - accuracy: 0.9800 - val_loss: 1.1978 - val_accuracy: 0.6600\n",
      "Epoch 96/100\n",
      "600/600 [==============================] - 0s 20us/step - loss: 0.1345 - accuracy: 0.9833 - val_loss: 1.2104 - val_accuracy: 0.6550\n",
      "Epoch 97/100\n",
      "600/600 [==============================] - 0s 17us/step - loss: 0.1283 - accuracy: 0.9900 - val_loss: 1.2022 - val_accuracy: 0.6550\n",
      "Epoch 98/100\n",
      "600/600 [==============================] - 0s 17us/step - loss: 0.1256 - accuracy: 0.9850 - val_loss: 1.2252 - val_accuracy: 0.6400\n",
      "Epoch 99/100\n",
      "600/600 [==============================] - 0s 18us/step - loss: 0.1252 - accuracy: 0.9800 - val_loss: 1.2288 - val_accuracy: 0.6700\n",
      "Epoch 100/100\n",
      "600/600 [==============================] - 0s 17us/step - loss: 0.1240 - accuracy: 0.9833 - val_loss: 1.2181 - val_accuracy: 0.6600\n",
      "200/200 [==============================] - 0s 40us/step\n"
     ]
    }
   ],
   "source": [
    "model = models.Sequential()\n",
    "model.add(layers.Dense(256, activation='relu', input_shape=(X_train.shape[1],)))\n",
    "#model.add(layers.Dense(256, activation='relu'))\n",
    "model.add(layers.Dense(128, activation='relu'))\n",
    "model.add(layers.Dense(64, activation='relu'))\n",
    "model.add(layers.Dense(10, activation='softmax'))\n",
    "\n",
    "model.compile(optimizer='adam',\n",
    "              loss='sparse_categorical_crossentropy',\n",
    "              metrics=['accuracy'])\n",
    "\n",
    "model.fit(partial_x_train,\n",
    "          partial_y_train,\n",
    "          epochs=100,\n",
    "          batch_size=256,\n",
    "          validation_data=(x_val, y_val))\n",
    "results = model.evaluate(X_test, y_test)"
   ]
  },
  {
   "cell_type": "code",
   "execution_count": 34,
   "metadata": {},
   "outputs": [
    {
     "name": "stdout",
     "output_type": "stream",
     "text": [
      "test loss:  1.3084785318374634\n",
      "test accuracy:  0.625\n"
     ]
    }
   ],
   "source": [
    "print(\"test loss: \", results[0])\n",
    "print(\"test accuracy: \", results[1])"
   ]
  },
  {
   "cell_type": "code",
   "execution_count": 7,
   "metadata": {},
   "outputs": [],
   "source": [
    "#genre_dict={0:'blues', 1:'classical', 2: 'electro', 3:'hiphop', 4:'jazz', 5:'pop', 6:'rock'} #data_down, feature200_7\n",
    "#genre_dict={0:'blues', 1:'classical', 2:'hiphop', 3:'jazz', 4:'pop', 5:'rock'} #data_down, feature200_7에서 electro 뺀거\n",
    "genre_dict={0:'blues', 1:'classical', 2:'hiphop', 3:'disco', 4: 'hiphop', 5: 'jazz', 6: 'metal', 7: 'pop', 8: 'reggae', 9:'rock'}\n"
   ]
  },
  {
   "cell_type": "code",
   "execution_count": null,
   "metadata": {},
   "outputs": [
    {
     "name": "stdout",
     "output_type": "stream",
     "text": [
      "Cemetery Gates(metal).wav : classical\n",
      "Comme Ce Jour(classical).wav : classical\n",
      "Enter Sandman(metal).wav : classical\n",
      "epilogue-lalaland(classical).wav : classical\n",
      "Fly Me To The Moon(jazz).wav : hiphop\n"
     ]
    }
   ],
   "source": [
    "audio_path=\"C:\\\\Users\\\\admin\\\\OneDrive - 경희대학교\\\\2020년 1학기 강의자료\\\\데이터분석캡스톤디자인\\\\프로젝트\\\\음악\\\\\"\n",
    "\n",
    "for song in os.listdir(audio_path):\n",
    "    if(song[-3:]==\"wav\"):\n",
    "        user_feature=feature_extraction(audio_path+song)\n",
    "        predictions = model.predict(user_feature)\n",
    "        print(song, \":\", genre_dict[np.argmax(predictions)])"
   ]
  },
  {
   "cell_type": "code",
   "execution_count": 19,
   "metadata": {},
   "outputs": [
    {
     "data": {
      "text/plain": [
       "'mp3'"
      ]
     },
     "execution_count": 19,
     "metadata": {},
     "output_type": "execute_result"
    }
   ],
   "source": [
    "\"sdf.mp3\"[-3:]"
   ]
  },
  {
   "cell_type": "code",
   "execution_count": 5,
   "metadata": {},
   "outputs": [],
   "source": [
    "import torch\n",
    "import torch.nn.functional as F\n",
    "from torch.autograd import Variable\n",
    "\n",
    "class Model(torch.nn.Module):\n",
    "    def __init__(self, inp, outp):\n",
    "        super(Model, self).__init__()\n",
    "        self.linear1=torch.nn.Linear(inp, 256)\n",
    "        self.linear2=torch.nn.Linear(128, 64)\n",
    "        self.linear3=torch.nn.Linear(64, outp)\n",
    "        \n",
    "        def forward(self, x):\n",
    "            relu1=F.relu(self.linear1(x))\n",
    "            relu2=F.relu(self.linear2(relu1))\n",
    "            y_pred = F.softmax(self.linear3(relu2))\n",
    "            \n",
    "            return y_pred"
   ]
  },
  {
   "cell_type": "code",
   "execution_count": 10,
   "metadata": {
    "scrolled": true
   },
   "outputs": [
    {
     "ename": "NotImplementedError",
     "evalue": "",
     "output_type": "error",
     "traceback": [
      "\u001b[1;31m---------------------------------------------------------------------------\u001b[0m",
      "\u001b[1;31mNotImplementedError\u001b[0m                       Traceback (most recent call last)",
      "\u001b[1;32m<ipython-input-10-d15feb154347>\u001b[0m in \u001b[0;36m<module>\u001b[1;34m\u001b[0m\n\u001b[0;32m     11\u001b[0m \u001b[1;33m\u001b[0m\u001b[0m\n\u001b[0;32m     12\u001b[0m \u001b[1;32mfor\u001b[0m \u001b[0mt\u001b[0m \u001b[1;32min\u001b[0m \u001b[0mrange\u001b[0m\u001b[1;33m(\u001b[0m\u001b[1;36m500\u001b[0m\u001b[1;33m)\u001b[0m\u001b[1;33m:\u001b[0m\u001b[1;33m\u001b[0m\u001b[1;33m\u001b[0m\u001b[0m\n\u001b[1;32m---> 13\u001b[1;33m     \u001b[0my_pred\u001b[0m\u001b[1;33m=\u001b[0m\u001b[0mmodel\u001b[0m\u001b[1;33m(\u001b[0m\u001b[0mx\u001b[0m\u001b[1;33m)\u001b[0m\u001b[1;33m\u001b[0m\u001b[1;33m\u001b[0m\u001b[0m\n\u001b[0m\u001b[0;32m     14\u001b[0m     \u001b[0mprint\u001b[0m\u001b[1;33m(\u001b[0m\u001b[1;36m1\u001b[0m\u001b[1;33m)\u001b[0m\u001b[1;33m\u001b[0m\u001b[1;33m\u001b[0m\u001b[0m\n\u001b[0;32m     15\u001b[0m \u001b[1;33m\u001b[0m\u001b[0m\n",
      "\u001b[1;32m~\\AppData\\Local\\Continuum\\anaconda3\\lib\\site-packages\\torch\\nn\\modules\\module.py\u001b[0m in \u001b[0;36m__call__\u001b[1;34m(self, *input, **kwargs)\u001b[0m\n\u001b[0;32m    530\u001b[0m             \u001b[0mresult\u001b[0m \u001b[1;33m=\u001b[0m \u001b[0mself\u001b[0m\u001b[1;33m.\u001b[0m\u001b[0m_slow_forward\u001b[0m\u001b[1;33m(\u001b[0m\u001b[1;33m*\u001b[0m\u001b[0minput\u001b[0m\u001b[1;33m,\u001b[0m \u001b[1;33m**\u001b[0m\u001b[0mkwargs\u001b[0m\u001b[1;33m)\u001b[0m\u001b[1;33m\u001b[0m\u001b[1;33m\u001b[0m\u001b[0m\n\u001b[0;32m    531\u001b[0m         \u001b[1;32melse\u001b[0m\u001b[1;33m:\u001b[0m\u001b[1;33m\u001b[0m\u001b[1;33m\u001b[0m\u001b[0m\n\u001b[1;32m--> 532\u001b[1;33m             \u001b[0mresult\u001b[0m \u001b[1;33m=\u001b[0m \u001b[0mself\u001b[0m\u001b[1;33m.\u001b[0m\u001b[0mforward\u001b[0m\u001b[1;33m(\u001b[0m\u001b[1;33m*\u001b[0m\u001b[0minput\u001b[0m\u001b[1;33m,\u001b[0m \u001b[1;33m**\u001b[0m\u001b[0mkwargs\u001b[0m\u001b[1;33m)\u001b[0m\u001b[1;33m\u001b[0m\u001b[1;33m\u001b[0m\u001b[0m\n\u001b[0m\u001b[0;32m    533\u001b[0m         \u001b[1;32mfor\u001b[0m \u001b[0mhook\u001b[0m \u001b[1;32min\u001b[0m \u001b[0mself\u001b[0m\u001b[1;33m.\u001b[0m\u001b[0m_forward_hooks\u001b[0m\u001b[1;33m.\u001b[0m\u001b[0mvalues\u001b[0m\u001b[1;33m(\u001b[0m\u001b[1;33m)\u001b[0m\u001b[1;33m:\u001b[0m\u001b[1;33m\u001b[0m\u001b[1;33m\u001b[0m\u001b[0m\n\u001b[0;32m    534\u001b[0m             \u001b[0mhook_result\u001b[0m \u001b[1;33m=\u001b[0m \u001b[0mhook\u001b[0m\u001b[1;33m(\u001b[0m\u001b[0mself\u001b[0m\u001b[1;33m,\u001b[0m \u001b[0minput\u001b[0m\u001b[1;33m,\u001b[0m \u001b[0mresult\u001b[0m\u001b[1;33m)\u001b[0m\u001b[1;33m\u001b[0m\u001b[1;33m\u001b[0m\u001b[0m\n",
      "\u001b[1;32m~\\AppData\\Local\\Continuum\\anaconda3\\lib\\site-packages\\torch\\nn\\modules\\module.py\u001b[0m in \u001b[0;36mforward\u001b[1;34m(self, *input)\u001b[0m\n\u001b[0;32m     94\u001b[0m             \u001b[0mregistered\u001b[0m \u001b[0mhooks\u001b[0m \u001b[1;32mwhile\u001b[0m \u001b[0mthe\u001b[0m \u001b[0mlatter\u001b[0m \u001b[0msilently\u001b[0m \u001b[0mignores\u001b[0m \u001b[0mthem\u001b[0m\u001b[1;33m.\u001b[0m\u001b[1;33m\u001b[0m\u001b[1;33m\u001b[0m\u001b[0m\n\u001b[0;32m     95\u001b[0m         \"\"\"\n\u001b[1;32m---> 96\u001b[1;33m         \u001b[1;32mraise\u001b[0m \u001b[0mNotImplementedError\u001b[0m\u001b[1;33m\u001b[0m\u001b[1;33m\u001b[0m\u001b[0m\n\u001b[0m\u001b[0;32m     97\u001b[0m \u001b[1;33m\u001b[0m\u001b[0m\n\u001b[0;32m     98\u001b[0m     \u001b[1;32mdef\u001b[0m \u001b[0mregister_buffer\u001b[0m\u001b[1;33m(\u001b[0m\u001b[0mself\u001b[0m\u001b[1;33m,\u001b[0m \u001b[0mname\u001b[0m\u001b[1;33m,\u001b[0m \u001b[0mtensor\u001b[0m\u001b[1;33m)\u001b[0m\u001b[1;33m:\u001b[0m\u001b[1;33m\u001b[0m\u001b[1;33m\u001b[0m\u001b[0m\n",
      "\u001b[1;31mNotImplementedError\u001b[0m: "
     ]
    }
   ],
   "source": [
    "inp=X_train.shape[1]\n",
    "outp=6\n",
    "\n",
    "x=Variable(torch.Tensor(X_train))\n",
    "y=Variable(torch.Tensor(y_train), requires_grad=False)\n",
    "\n",
    "model=Model(inp, outp)\n",
    "\n",
    "criterion = torch.nn.CrossEntropyLoss()\n",
    "optimizer = torch.optim.Adam(model.parameters(), lr=1e-4)\n",
    "\n",
    "for t in range(500):\n",
    "    y_pred=model(x)\n",
    "    \n",
    "    loss = criterion(y_pred, y)\n",
    "    print(t, loss.data[0])\n",
    "\n",
    "    optimizer.zero_grad()\n",
    "    loss.backward()\n",
    "    optimizer.step()"
   ]
  },
  {
   "cell_type": "code",
   "execution_count": null,
   "metadata": {},
   "outputs": [],
   "source": []
  }
 ],
 "metadata": {
  "kernelspec": {
   "display_name": "Python 3",
   "language": "python",
   "name": "python3"
  },
  "language_info": {
   "codemirror_mode": {
    "name": "ipython",
    "version": 3
   },
   "file_extension": ".py",
   "mimetype": "text/x-python",
   "name": "python",
   "nbconvert_exporter": "python",
   "pygments_lexer": "ipython3",
   "version": "3.7.4"
  }
 },
 "nbformat": 4,
 "nbformat_minor": 4
}
