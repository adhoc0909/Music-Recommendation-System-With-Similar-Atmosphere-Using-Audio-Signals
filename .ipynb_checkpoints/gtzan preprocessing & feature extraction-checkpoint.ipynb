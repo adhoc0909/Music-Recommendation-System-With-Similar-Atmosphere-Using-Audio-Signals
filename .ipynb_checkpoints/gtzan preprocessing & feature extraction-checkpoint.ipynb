{
 "cells": [
  {
   "cell_type": "code",
   "execution_count": 247,
   "metadata": {
    "collapsed": true
   },
   "outputs": [],
   "source": [
    "import librosa\n",
    "import pandas as pd\n",
    "import numpy as np\n",
    "import pathlib\n",
    "import os\n",
    "from pydub import AudioSegment\n",
    "import csv"
   ]
  },
  {
   "cell_type": "markdown",
   "metadata": {},
   "source": [
    "# Preprocessing\n",
    "au 파일 포맷을 wav 파일로 변환한다. "
   ]
  },
  {
   "cell_type": "code",
   "execution_count": 83,
   "metadata": {},
   "outputs": [],
   "source": [
    "genres=\"blues classical country disco hiphop jazz metal pop reggae rock\".split()\n",
    "\n",
    "for g in genres:\n",
    "    for filename in os.listdir(f'C:/Users/admin/OneDrive - 경희대학교/2020년 1학기 강의자료/데이터분석캡스톤디자인/프로젝트/데이터/gtzan-genre-collection/genres/{g}'):\n",
    "        songname = f'C:/Users/admin/OneDrive - 경희대학교/2020년 1학기 강의자료/데이터분석캡스톤디자인/프로젝트/데이터/gtzan-genre-collection/genres/{g}/{filename}'\n",
    "        sound = AudioSegment.from_file(songname, \"au\")\n",
    "        sound.export(f'C:/Users/admin/OneDrive - 경희대학교/2020년 1학기 강의자료/데이터분석캡스톤디자인/프로젝트/데이터/gtzan-genre-collection/genres_wav/{g}/'+filename[:-2]+\"wav\", format=\"wav\")"
   ]
  },
  {
   "cell_type": "code",
   "execution_count": 108,
   "metadata": {},
   "outputs": [
    {
     "data": {
      "text/plain": [
       "183896.52945672921"
      ]
     },
     "execution_count": 108,
     "metadata": {},
     "output_type": "execute_result"
    }
   ],
   "source": []
  },
  {
   "cell_type": "markdown",
   "metadata": {},
   "source": [
    "# Preprocessing\n",
    "데이터의 진폭 범위를 [-1과 1]로 맞춰준다."
   ]
  },
  {
   "cell_type": "code",
   "execution_count": 12,
   "metadata": {},
   "outputs": [],
   "source": [
    "def normalize(vector):\n",
    "    # Subtract the mean, and scale to the interval [-1,1]\n",
    "    vector_minusmean = vector - vector.mean()\n",
    "    return vector_minusmean/np.abs(vector_minusmean).max()"
   ]
  },
  {
   "cell_type": "markdown",
   "metadata": {},
   "source": [
    "# timbral texture feature vector extraction"
   ]
  },
  {
   "cell_type": "markdown",
   "metadata": {},
   "source": [
    "음색 특징으로 사용할 것은 analysis window에 대한 spectral centroid, rolloff, fulx, zerocrossing의 평균과 분산, mfcc의 앞에서부터 5개의 vector에 대한 평균과 분산, 그리고 low energy로 총 19차원의 feature vector를 뽑는다."
   ]
  },
  {
   "cell_type": "markdown",
   "metadata": {},
   "source": [
    "###  사용한 음색 특징에 대한 설명\n",
    "\n",
    "1. spectral centroid : STFT 연산을 하여 나온 feaquency domain에 대한 주파수의 중심점을 나타낸다. 주파수와 진폭에 대한 가중평균. 어느 중심이 되는 주파수\n",
    "\n",
    "2. time domain zero crossing rate : time domain에서 x축을 얼마나 많이 지나가는지에 대한 횟루를 나타낸다. -> 시끄러운 정도. \n",
    "\n",
    "3. Spectral Rolloff : 낮은 주파수 영역의 신호 에너지 집중도. 무성음과 유성음을 구분하는데, 무성음은 고주파 영역을 많이 차지함. frequency domain에서 우측으로 치중된 그래프일수록(right skewed distribution)일수록 값이 크다. \n",
    "\n",
    "4. Spectral Flux : 신호의 스펙트럼이 얼마나 빠르게 변화하는지를 측정하는 양. 이전프레임과 현재 프레임의 스펙트럼의 차이\n",
    "\n",
    "5. low energy feature : texture window(1s)에 대해 구한 RMS의 평균 보다 작은 RMS를 가진 analysis window(20ms)의 비율. 조용한 분위기에서 말이 많을수록 값이 크고, 연속적인 현악기 음악은 낮음.\n",
    "\n",
    "6. MFCC : 인간이 듣는 방식으로 음색 체크"
   ]
  },
  {
   "cell_type": "code",
   "execution_count": 254,
   "metadata": {},
   "outputs": [],
   "source": [
    "header = \"filename spectral_centroid_mean spectral_centroid_variance spectral_rolloff_mean spectral_rolloff_variance spectral_flux_mean spectral_flux_variance zero_crossing_rate_mean zero_crossing_rate_variance low_energy \"\n",
    "for i in range(1, 6):\n",
    "    header+=f'mfcc{i}_mean '\n",
    "    header+=f'mfcc{i}_variance '\n",
    "    \n",
    "header+='label'\n",
    "header=header.split()\n",
    "\n",
    "file = open('gtzan_feature.csv', 'w', newline='')\n",
    "with file:\n",
    "    writer = csv.writer(file)\n",
    "    writer.writerow(header)\n",
    "\n",
    "                    \n",
    "genres=\"blues classical country disco hiphop jazz metal pop reggae rock\".split()\n",
    "\n",
    "for g in genres:\n",
    "    for filename in os.listdir(f'C:/Users/admin/OneDrive - 경희대학교/2020년 1학기 강의자료/데이터분석캡스톤디자인/프로젝트/데이터/gtzan-genre-collection/genres_wav/{g}'):\n",
    "        songname = f'C:/Users/admin/OneDrive - 경희대학교/2020년 1학기 강의자료/데이터분석캡스톤디자인/프로젝트/데이터/gtzan-genre-collection/genres_wav/{g}/{filename}'\n",
    "        y, sr = librosa.load(songname, mono=True, duration=30)\n",
    "        y=normalize(y)\n",
    "        to_append=\"\"\n",
    "        centroid = librosa.feature.spectral_centroid(y=y, sr=sr) #spectral centroid\n",
    "        rolloff=librosa.feature.spectral_rolloff(y, sr) #spectral rolloff\n",
    "        flux=librosa.onset.onset_strength(y, sr) #spectral flux\n",
    "        zcr=librosa.feature.zero_crossing_rate(y) #zero crossing rate\n",
    "        mfcc=librosa.feature.mfcc(y=y, sr=sr)[:5] #first five mfcc vectors\n",
    "        \n",
    "        rmse=librosa.feature.rms(y=y, hop_length=sr)\n",
    "        rmsmean=rmse.mean()\n",
    "        low_energy=((y<rmsmean).sum())/y.shape[0] #low energy\n",
    "        \n",
    "        to_append = f'{filename} {centroid.mean()} {centroid.var()} {rolloff.mean()} {rolloff.var()} {flux.mean()} {flux.var()} {zcr.mean()} {zcr.var()} {low_energy} '    \n",
    "        for e in mfcc:\n",
    "            to_append += f'{e.mean()} {e.var()} '\n",
    "        to_append += f'{g}'\n",
    "        \n",
    "        file = open('gtzan_feature.csv', 'a', newline='')\n",
    "        with file:\n",
    "            writer = csv.writer(file)\n",
    "            writer.writerow(to_append.split())"
   ]
  }
 ],
 "metadata": {
  "kernelspec": {
   "display_name": "Python 3",
   "language": "python",
   "name": "python3"
  },
  "language_info": {
   "codemirror_mode": {
    "name": "ipython",
    "version": 3
   },
   "file_extension": ".py",
   "mimetype": "text/x-python",
   "name": "python",
   "nbconvert_exporter": "python",
   "pygments_lexer": "ipython3",
   "version": "3.7.4"
  }
 },
 "nbformat": 4,
 "nbformat_minor": 4
}
